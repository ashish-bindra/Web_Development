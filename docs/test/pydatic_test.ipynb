{
 "cells": [
  {
   "cell_type": "code",
   "execution_count": 1,
   "id": "929bedba",
   "metadata": {},
   "outputs": [
    {
     "name": "stdout",
     "output_type": "stream",
     "text": [
      "Collecting pydantic\n",
      "  Using cached pydantic-2.11.7-py3-none-any.whl.metadata (67 kB)\n",
      "Collecting annotated-types>=0.6.0 (from pydantic)\n",
      "  Using cached annotated_types-0.7.0-py3-none-any.whl.metadata (15 kB)\n",
      "Collecting pydantic-core==2.33.2 (from pydantic)\n",
      "  Downloading pydantic_core-2.33.2-cp312-cp312-win_amd64.whl.metadata (6.9 kB)\n",
      "Collecting typing-extensions>=4.12.2 (from pydantic)\n",
      "  Using cached typing_extensions-4.14.0-py3-none-any.whl.metadata (3.0 kB)\n",
      "Collecting typing-inspection>=0.4.0 (from pydantic)\n",
      "  Using cached typing_inspection-0.4.1-py3-none-any.whl.metadata (2.6 kB)\n",
      "Using cached pydantic-2.11.7-py3-none-any.whl (444 kB)\n",
      "Downloading pydantic_core-2.33.2-cp312-cp312-win_amd64.whl (2.0 MB)\n",
      "   ---------------------------------------- 0.0/2.0 MB ? eta -:--:--\n",
      "   ---------------------------------------- 0.0/2.0 MB ? eta -:--:--\n",
      "   ---------------- ----------------------- 0.8/2.0 MB 4.8 MB/s eta 0:00:01\n",
      "   -------------------------------- ------- 1.6/2.0 MB 3.6 MB/s eta 0:00:01\n",
      "   ---------------------------------------- 2.0/2.0 MB 3.4 MB/s eta 0:00:00\n",
      "Using cached annotated_types-0.7.0-py3-none-any.whl (13 kB)\n",
      "Using cached typing_extensions-4.14.0-py3-none-any.whl (43 kB)\n",
      "Using cached typing_inspection-0.4.1-py3-none-any.whl (14 kB)\n",
      "Installing collected packages: typing-extensions, annotated-types, typing-inspection, pydantic-core, pydantic\n",
      "\n",
      "   ---------------- ----------------------- 2/5 [typing-inspection]\n",
      "   -------------------------------- ------- 4/5 [pydantic]\n",
      "   -------------------------------- ------- 4/5 [pydantic]\n",
      "   -------------------------------- ------- 4/5 [pydantic]\n",
      "   -------------------------------- ------- 4/5 [pydantic]\n",
      "   -------------------------------- ------- 4/5 [pydantic]\n",
      "   -------------------------------- ------- 4/5 [pydantic]\n",
      "   -------------------------------- ------- 4/5 [pydantic]\n",
      "   -------------------------------- ------- 4/5 [pydantic]\n",
      "   -------------------------------- ------- 4/5 [pydantic]\n",
      "   -------------------------------- ------- 4/5 [pydantic]\n",
      "   -------------------------------- ------- 4/5 [pydantic]\n",
      "   ---------------------------------------- 5/5 [pydantic]\n",
      "\n",
      "Successfully installed annotated-types-0.7.0 pydantic-2.11.7 pydantic-core-2.33.2 typing-extensions-4.14.0 typing-inspection-0.4.1\n",
      "Note: you may need to restart the kernel to use updated packages.\n"
     ]
    }
   ],
   "source": [
    "%pip install pydantic"
   ]
  },
  {
   "cell_type": "code",
   "execution_count": 4,
   "id": "055111d8",
   "metadata": {},
   "outputs": [
    {
     "name": "stdout",
     "output_type": "stream",
     "text": [
      "id=101 name='chai' is_active=True\n"
     ]
    },
    {
     "data": {
      "text/plain": [
       "User(id=101, name='chai', is_active=True)"
      ]
     },
     "execution_count": 4,
     "metadata": {},
     "output_type": "execute_result"
    }
   ],
   "source": [
    "from pydantic import BaseModel\n",
    "\n",
    "class User(BaseModel):\n",
    "    id: int\n",
    "    name: str\n",
    "    is_active: bool\n",
    "\n",
    "input_data = {\"id\": 101, \"name\": \"chai\", \"is_active\": True}\n",
    "\n",
    "user = User(**input_data)\n",
    "\n",
    "print(user)\n",
    "user"
   ]
  },
  {
   "cell_type": "code",
   "execution_count": 6,
   "id": "7f328d7e",
   "metadata": {},
   "outputs": [
    {
     "data": {
      "text/plain": [
       "User(id=101, name='chai', is_active=True)"
      ]
     },
     "execution_count": 6,
     "metadata": {},
     "output_type": "execute_result"
    }
   ],
   "source": [
    "input_data = {\"id\": 101, \"name\": \"chai\", \"is_active\": 'True'}\n",
    "\n",
    "user = User(**input_data)\n",
    "user"
   ]
  },
  {
   "cell_type": "code",
   "execution_count": 7,
   "id": "ca68725d",
   "metadata": {},
   "outputs": [
    {
     "data": {
      "text/plain": [
       "User(id=101, name='chai', is_active=True)"
      ]
     },
     "execution_count": 7,
     "metadata": {},
     "output_type": "execute_result"
    }
   ],
   "source": [
    "input_data = {\"id\": '101', \"name\": \"chai\", \"is_active\": 'True'}\n",
    "\n",
    "user = User(**input_data)\n",
    "user"
   ]
  },
  {
   "cell_type": "code",
   "execution_count": 8,
   "id": "407ab246",
   "metadata": {},
   "outputs": [
    {
     "ename": "ValidationError",
     "evalue": "1 validation error for User\nis_active\n  Input should be a valid boolean, unable to interpret input [type=bool_parsing, input_value='shi', input_type=str]\n    For further information visit https://errors.pydantic.dev/2.11/v/bool_parsing",
     "output_type": "error",
     "traceback": [
      "\u001b[31m---------------------------------------------------------------------------\u001b[39m",
      "\u001b[31mValidationError\u001b[39m                           Traceback (most recent call last)",
      "\u001b[36mCell\u001b[39m\u001b[36m \u001b[39m\u001b[32mIn[8]\u001b[39m\u001b[32m, line 3\u001b[39m\n\u001b[32m      1\u001b[39m input_data = {\u001b[33m\"\u001b[39m\u001b[33mid\u001b[39m\u001b[33m\"\u001b[39m: \u001b[33m'\u001b[39m\u001b[33m101\u001b[39m\u001b[33m'\u001b[39m, \u001b[33m\"\u001b[39m\u001b[33mname\u001b[39m\u001b[33m\"\u001b[39m: \u001b[33m\"\u001b[39m\u001b[33mchai\u001b[39m\u001b[33m\"\u001b[39m, \u001b[33m\"\u001b[39m\u001b[33mis_active\u001b[39m\u001b[33m\"\u001b[39m: \u001b[33m'\u001b[39m\u001b[33mshi\u001b[39m\u001b[33m'\u001b[39m}\n\u001b[32m----> \u001b[39m\u001b[32m3\u001b[39m user = \u001b[43mUser\u001b[49m\u001b[43m(\u001b[49m\u001b[43m*\u001b[49m\u001b[43m*\u001b[49m\u001b[43minput_data\u001b[49m\u001b[43m)\u001b[49m\n\u001b[32m      4\u001b[39m user\n",
      "\u001b[36mFile \u001b[39m\u001b[32mc:\\Users\\Bindra\\Desktop\\todo\\github projects\\Web_Development tutorial website\\Web_Development\\.venv\\Lib\\site-packages\\pydantic\\main.py:253\u001b[39m, in \u001b[36mBaseModel.__init__\u001b[39m\u001b[34m(self, **data)\u001b[39m\n\u001b[32m    251\u001b[39m \u001b[38;5;66;03m# `__tracebackhide__` tells pytest and some other tools to omit this function from tracebacks\u001b[39;00m\n\u001b[32m    252\u001b[39m __tracebackhide__ = \u001b[38;5;28;01mTrue\u001b[39;00m\n\u001b[32m--> \u001b[39m\u001b[32m253\u001b[39m validated_self = \u001b[38;5;28;43mself\u001b[39;49m\u001b[43m.\u001b[49m\u001b[43m__pydantic_validator__\u001b[49m\u001b[43m.\u001b[49m\u001b[43mvalidate_python\u001b[49m\u001b[43m(\u001b[49m\u001b[43mdata\u001b[49m\u001b[43m,\u001b[49m\u001b[43m \u001b[49m\u001b[43mself_instance\u001b[49m\u001b[43m=\u001b[49m\u001b[38;5;28;43mself\u001b[39;49m\u001b[43m)\u001b[49m\n\u001b[32m    254\u001b[39m \u001b[38;5;28;01mif\u001b[39;00m \u001b[38;5;28mself\u001b[39m \u001b[38;5;129;01mis\u001b[39;00m \u001b[38;5;129;01mnot\u001b[39;00m validated_self:\n\u001b[32m    255\u001b[39m     warnings.warn(\n\u001b[32m    256\u001b[39m         \u001b[33m'\u001b[39m\u001b[33mA custom validator is returning a value other than `self`.\u001b[39m\u001b[38;5;130;01m\\n\u001b[39;00m\u001b[33m'\u001b[39m\n\u001b[32m    257\u001b[39m         \u001b[33m\"\u001b[39m\u001b[33mReturning anything other than `self` from a top level model validator isn\u001b[39m\u001b[33m'\u001b[39m\u001b[33mt supported when validating via `__init__`.\u001b[39m\u001b[38;5;130;01m\\n\u001b[39;00m\u001b[33m\"\u001b[39m\n\u001b[32m    258\u001b[39m         \u001b[33m'\u001b[39m\u001b[33mSee the `model_validator` docs (https://docs.pydantic.dev/latest/concepts/validators/#model-validators) for more details.\u001b[39m\u001b[33m'\u001b[39m,\n\u001b[32m    259\u001b[39m         stacklevel=\u001b[32m2\u001b[39m,\n\u001b[32m    260\u001b[39m     )\n",
      "\u001b[31mValidationError\u001b[39m: 1 validation error for User\nis_active\n  Input should be a valid boolean, unable to interpret input [type=bool_parsing, input_value='shi', input_type=str]\n    For further information visit https://errors.pydantic.dev/2.11/v/bool_parsing"
     ]
    }
   ],
   "source": [
    "input_data = {\"id\": '101', \"name\": \"chai\", \"is_active\": 'shi'}\n",
    "\n",
    "user = User(**input_data)\n",
    "user"
   ]
  },
  {
   "cell_type": "markdown",
   "id": "b0a74103",
   "metadata": {},
   "source": [
    "#### TODO 1: Create Product model with id, name,price, in_stock\n",
    "#### TODO 1:\n",
    "#### TODO 1:\n",
    "#### TODO 1:\n",
    "#### TODO 1:\n",
    "#### TODO 1:\n",
    "#### TODO 1:\n",
    "#### TODO 1:\n",
    "#### TODO 1:\n",
    "#### TODO 1:"
   ]
  },
  {
   "cell_type": "code",
   "execution_count": null,
   "id": "2da9294f",
   "metadata": {},
   "outputs": [],
   "source": [
    "#### TODO 1: Create Product model with id, name,price, in_stock\n",
    "\n",
    "from pydantic import BaseModel\n",
    "\n",
    "class ProductModel(BaseModel):\n",
    "    id: int\n",
    "    name: str\n",
    "    price: float\n",
    "    in_stock: bool = False"
   ]
  },
  {
   "cell_type": "code",
   "execution_count": null,
   "id": "d0b72031",
   "metadata": {},
   "outputs": [],
   "source": [
    "\n",
    "from pydantic import BaseModel\n",
    "from types import List, Dict, Optional\n",
    "\n",
    "class Cart(BaseModel):\n",
    "    user_id: int\n",
    "    item: List[str]\n",
    "    quantities: Dict[str, int]\n",
    "\n",
    "class BlogPost(BaseModel):\n",
    "    title: str\n",
    "    content: str\n",
    "    image_url: Optional[str] = None"
   ]
  },
  {
   "cell_type": "markdown",
   "id": "80ee7e6e",
   "metadata": {},
   "source": [
    "## Assignment 2: TODO: Create Employee model\n",
    "\n",
    "    fields:\n",
    "\n",
    "    - id: int\n",
    "    - name: str(min 3 chars)\n",
    "    - department: Optional str (default 'Hernal')\n",
    "    - salary: float (must be >= 10000)"
   ]
  },
  {
   "cell_type": "code",
   "execution_count": null,
   "id": "93892aa1",
   "metadata": {},
   "outputs": [],
   "source": [
    "from pydantic import BaseModel, Field\n",
    "from types import List, Dict, Optional\n",
    "\n",
    "\n",
    "class Employee(BaseModel):\n",
    "    id: int\n",
    "    name: str = Field(\n",
    "        ...,\n",
    "        min_length=3,\n",
    "        max_length=50,\n",
    "        description=\"Employee Name\",\n",
    "        examples=\"Ashish Bindra\",\n",
    "    )\n",
    "    department: Optional[str] = \"General\"\n",
    "    salary: float = Field(..., ge=10000)"
   ]
  },
  {
   "cell_type": "code",
   "execution_count": null,
   "id": "deed7c2d",
   "metadata": {},
   "outputs": [],
   "source": [
    "from pydantic import BaseModel, Field, computed_field\n",
    "from types import List, Dict, Optional\n",
    "\n",
    "class Booking(BaseModel):\n",
    "    user_id: int\n",
    "    room_id: int\n",
    "    nights: int = Field(..., ge=1)\n",
    "    rate_per_night: float\n",
    "    \n",
    "    @computed_field\n",
    "    @property\n",
    "    def total_amount(self)-> float:\n",
    "        return self.nights * self.rate_per_night\n",
    "    \n",
    "    "
   ]
  },
  {
   "cell_type": "markdown",
   "id": "3ff3869e",
   "metadata": {},
   "source": [
    "from pydantic import BaseModel, Field\n",
    "from types import List, Dict, Optional\n",
    "\n",
    "class Booking()"
   ]
  }
 ],
 "metadata": {
  "kernelspec": {
   "display_name": ".venv",
   "language": "python",
   "name": "python3"
  },
  "language_info": {
   "codemirror_mode": {
    "name": "ipython",
    "version": 3
   },
   "file_extension": ".py",
   "mimetype": "text/x-python",
   "name": "python",
   "nbconvert_exporter": "python",
   "pygments_lexer": "ipython3",
   "version": "3.12.3"
  }
 },
 "nbformat": 4,
 "nbformat_minor": 5
}
